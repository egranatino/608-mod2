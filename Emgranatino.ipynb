{
 "cells": [
  {
   "cell_type": "markdown",
   "id": "49638e57-6192-4e30-99ec-b4cec5974d62",
   "metadata": {
    "tags": []
   },
   "source": [
    "### Emgranatino.ipynb ###"
   ]
  },
  {
   "cell_type": "markdown",
   "id": "bbe6b45e-a003-4acd-9e40-1e105cca1a08",
   "metadata": {},
   "source": [
    "### Write Python statements that perform the tasks described - enter integers 10 and 5 ###"
   ]
  },
  {
   "cell_type": "code",
   "execution_count": 1,
   "id": "16ca332f-ed2e-4904-86a2-3f93b4c426c3",
   "metadata": {},
   "outputs": [
    {
     "name": "stdin",
     "output_type": "stream",
     "text": [
      "Enter first integer:  10\n"
     ]
    }
   ],
   "source": [
    "number1 = int(input('Enter first integer: '))"
   ]
  },
  {
   "cell_type": "code",
   "execution_count": 2,
   "id": "2bbc09ae-1113-4b21-a921-c8291d02e6ed",
   "metadata": {},
   "outputs": [
    {
     "name": "stdin",
     "output_type": "stream",
     "text": [
      "Enter second integer:  5\n"
     ]
    }
   ],
   "source": [
    "number2 = int(input('Enter second integer: '))"
   ]
  },
  {
   "cell_type": "code",
   "execution_count": 3,
   "id": "f1b5331c-4542-4ab0-8fba-2365125af850",
   "metadata": {},
   "outputs": [],
   "source": [
    "total = number1 + number2"
   ]
  },
  {
   "cell_type": "code",
   "execution_count": 4,
   "id": "1e03e677-1bcf-44bd-b23c-2c197f3907a1",
   "metadata": {},
   "outputs": [
    {
     "name": "stdout",
     "output_type": "stream",
     "text": [
      "The sum of 10 and 5 is 15\n"
     ]
    }
   ],
   "source": [
    "print('The sum of', number1, 'and', number2, 'is', total)"
   ]
  },
  {
   "cell_type": "markdown",
   "id": "1a7e83f9-890f-4986-8cbc-a9551660d89b",
   "metadata": {
    "tags": []
   },
   "source": [
    "##### pay attention to assignment = vs equals == #####"
   ]
  },
  {
   "cell_type": "markdown",
   "id": "16eee7f8-a1c2-4eb4-a23d-1e49e25cddc0",
   "metadata": {},
   "source": [
    "#####  Indenting a suite is required - all statements must have the same indentation ##### "
   ]
  },
  {
   "cell_type": "markdown",
   "id": "fd566db9-e6f2-4eac-ae0f-bd09704cf664",
   "metadata": {
    "tags": []
   },
   "source": [
    "### 3.5 Ipython session - with if, only occurs if the condition is true ###"
   ]
  },
  {
   "cell_type": "code",
   "execution_count": 5,
   "id": "59e2a790-a7c3-40d5-84fb-af933deae2c4",
   "metadata": {},
   "outputs": [],
   "source": [
    "grade = 85"
   ]
  },
  {
   "cell_type": "code",
   "execution_count": 6,
   "id": "6255f1d0-9188-4ddc-83eb-a1df004c7de1",
   "metadata": {},
   "outputs": [
    {
     "name": "stdout",
     "output_type": "stream",
     "text": [
      "Passed\n"
     ]
    }
   ],
   "source": [
    "if grade >= 60:\n",
    "    print('Passed')"
   ]
  },
  {
   "cell_type": "code",
   "execution_count": 7,
   "id": "36dbbb4f-1e6f-498f-853a-9de7d77685a3",
   "metadata": {},
   "outputs": [],
   "source": [
    "grade = 55"
   ]
  },
  {
   "cell_type": "markdown",
   "id": "a269f6c7-adbf-4ad3-8f74-071eb29fecff",
   "metadata": {},
   "source": [
    "##### using an if else statement, sets a condition to print something whether the condition is true or false #####"
   ]
  },
  {
   "cell_type": "code",
   "execution_count": 8,
   "id": "4b0c04ff-225c-4dec-860a-2a578d42bddc",
   "metadata": {},
   "outputs": [],
   "source": [
    "if grade >= 60:\n",
    "    print('Passed')"
   ]
  },
  {
   "cell_type": "code",
   "execution_count": 9,
   "id": "0337b70f-7973-43cc-8598-3f526b3ac408",
   "metadata": {},
   "outputs": [
    {
     "name": "stdout",
     "output_type": "stream",
     "text": [
      "Failed\n"
     ]
    }
   ],
   "source": [
    "if grade >= 60:\n",
    "    print('Passed')\n",
    "else:\n",
    "    print('Failed')"
   ]
  },
  {
   "cell_type": "markdown",
   "id": "86bb6a02-3f88-4988-9449-822de817f693",
   "metadata": {},
   "source": [
    "##### if, elif, else - syntax error if else comes before end - show error (example commented out below) #####"
   ]
  },
  {
   "cell_type": "code",
   "execution_count": 10,
   "id": "b21716b6-662a-45fd-bb49-602683590cf3",
   "metadata": {},
   "outputs": [],
   "source": [
    "# grade = 85"
   ]
  },
  {
   "cell_type": "code",
   "execution_count": 11,
   "id": "7481b5fd-2e0f-4f5b-a500-2248bc13a9d9",
   "metadata": {},
   "outputs": [],
   "source": [
    "# if grade >= 90:\n",
    "    # print('You have an A')"
   ]
  },
  {
   "cell_type": "code",
   "execution_count": 12,
   "id": "be56d39f-9fee-4ea9-865f-692b3c50a959",
   "metadata": {},
   "outputs": [],
   "source": [
    "# else:\n",
    "   # print('You don't have an A or B in this course')"
   ]
  },
  {
   "cell_type": "code",
   "execution_count": 13,
   "id": "c81c421a-63cd-4797-84dd-0add79ddec24",
   "metadata": {},
   "outputs": [],
   "source": [
    "# elif grade >= 80:\n",
    "    # print('You have a B')"
   ]
  },
  {
   "cell_type": "markdown",
   "id": "0986a580-af4e-414f-a8fe-6b82951c1969",
   "metadata": {},
   "source": [
    "### use while for loop - first power of 7 larger than 1000 ###"
   ]
  },
  {
   "cell_type": "code",
   "execution_count": 14,
   "id": "e272002c-053a-47ea-9954-c5ac113552f8",
   "metadata": {},
   "outputs": [],
   "source": [
    "product = 7"
   ]
  },
  {
   "cell_type": "code",
   "execution_count": 15,
   "id": "3029aa4b-729c-46bc-a8b4-8034fe37bcef",
   "metadata": {},
   "outputs": [],
   "source": [
    "while product <= 1000:\n",
    "    product = product * 7"
   ]
  },
  {
   "cell_type": "code",
   "execution_count": 16,
   "id": "f275a95d-b716-471e-89d3-223cdd318328",
   "metadata": {},
   "outputs": [
    {
     "data": {
      "text/plain": [
       "2401"
      ]
     },
     "execution_count": 16,
     "metadata": {},
     "output_type": "execute_result"
    }
   ],
   "source": [
    "product"
   ]
  },
  {
   "cell_type": "markdown",
   "id": "ce7a59a0-c0ed-4657-b06e-cd594e76d1f2",
   "metadata": {},
   "source": [
    "##### use ctrl + c to terminate an infinite loop #####"
   ]
  },
  {
   "cell_type": "markdown",
   "id": "ee1492c8-d4b7-46ae-a0f9-c2d5239f2672",
   "metadata": {},
   "source": [
    "##### print will go to a new line unless you user end='  ' #####"
   ]
  },
  {
   "cell_type": "markdown",
   "id": "9e0b1f31-a26c-4584-8dbb-3b970c040324",
   "metadata": {},
   "source": [
    "##### use sep= to change the default single space in the print function - great way to use a period at the end. #####"
   ]
  },
  {
   "cell_type": "code",
   "execution_count": 17,
   "id": "abd6714f-e7f7-482c-adec-1946c4ec55b6",
   "metadata": {},
   "outputs": [
    {
     "name": "stdout",
     "output_type": "stream",
     "text": [
      "I am2401.\n"
     ]
    }
   ],
   "source": [
    "print('I am', product, \".\", sep='')"
   ]
  },
  {
   "cell_type": "markdown",
   "id": "b1a87cbf-ceb9-4ec1-8d89-6a5171739e62",
   "metadata": {},
   "source": [
    "##### the sequence to the right of the for statement's in keyword must be an iterable. #####"
   ]
  },
  {
   "cell_type": "markdown",
   "id": "144e043b-551c-491f-a308-a87b36e783a3",
   "metadata": {},
   "source": [
    "##### notice that the following counts from 0 to the number before the end of the range #####"
   ]
  },
  {
   "cell_type": "markdown",
   "id": "1799e6db-c2da-4e96-8fe2-bfba27b7dfb3",
   "metadata": {},
   "source": [
    "##### off-by-one-error when you assume range's argument value is included in the generated sequence #####"
   ]
  },
  {
   "cell_type": "code",
   "execution_count": 18,
   "id": "b9057463-c3d3-4abe-ab47-f5ab6649079c",
   "metadata": {},
   "outputs": [
    {
     "name": "stdout",
     "output_type": "stream",
     "text": [
      "0  1  2  3  4  5  6  7  8  9  "
     ]
    }
   ],
   "source": [
    "for counter in range(10):\n",
    "    print(counter, end='  ')"
   ]
  },
  {
   "cell_type": "markdown",
   "id": "87858b23-bf4a-4f10-9da7-49b912dee1cd",
   "metadata": {},
   "source": [
    "### calculate the total of the integers from 0 through 1,000,000 ###"
   ]
  },
  {
   "cell_type": "code",
   "execution_count": 19,
   "id": "4cb13067-bb3c-46f1-bbc2-c711211a328f",
   "metadata": {},
   "outputs": [],
   "source": [
    "total_of_int = 0"
   ]
  },
  {
   "cell_type": "code",
   "execution_count": 20,
   "id": "e706ebe2-0059-420e-89cf-fe38f48fc8fb",
   "metadata": {},
   "outputs": [],
   "source": [
    "for number in range(1000001):\n",
    "    total_of_int = total_of_int + number"
   ]
  },
  {
   "cell_type": "code",
   "execution_count": 21,
   "id": "381b6642-0932-4723-abbf-b8f771a34ffe",
   "metadata": {},
   "outputs": [
    {
     "data": {
      "text/plain": [
       "500000500000"
      ]
     },
     "execution_count": 21,
     "metadata": {},
     "output_type": "execute_result"
    }
   ],
   "source": [
    "total_of_int"
   ]
  },
  {
   "cell_type": "code",
   "execution_count": 22,
   "id": "9b917716-64ef-43d0-8d7c-b6875141b192",
   "metadata": {},
   "outputs": [],
   "source": [
    "x = 12"
   ]
  },
  {
   "cell_type": "code",
   "execution_count": 23,
   "id": "b3bbf47c-9243-402f-a631-16972e9bd715",
   "metadata": {},
   "outputs": [],
   "source": [
    "x **= 2"
   ]
  },
  {
   "cell_type": "code",
   "execution_count": 24,
   "id": "10e28114-5d23-43fa-8152-22804487d018",
   "metadata": {},
   "outputs": [
    {
     "data": {
      "text/plain": [
       "144"
      ]
     },
     "execution_count": 24,
     "metadata": {},
     "output_type": "execute_result"
    }
   ],
   "source": [
    "x"
   ]
  },
  {
   "cell_type": "markdown",
   "id": "da8df742-728c-46c5-bba3-64cc6aeb74f0",
   "metadata": {},
   "source": [
    "### display f-string n1 = 7, n2 = 5, and show the numbers and their product ###"
   ]
  },
  {
   "cell_type": "code",
   "execution_count": 25,
   "id": "1ac0e74f-a9c5-4ee4-99d3-c2ecdee47d7c",
   "metadata": {},
   "outputs": [],
   "source": [
    "num1 = 7"
   ]
  },
  {
   "cell_type": "code",
   "execution_count": 26,
   "id": "f91ae585-a5ae-461f-a220-e42e548faf14",
   "metadata": {},
   "outputs": [],
   "source": [
    "num2 = 5"
   ]
  },
  {
   "cell_type": "code",
   "execution_count": 27,
   "id": "260b2079-e88d-469a-967e-b0ff6feaf8a9",
   "metadata": {},
   "outputs": [
    {
     "name": "stdout",
     "output_type": "stream",
     "text": [
      "Multiplying 7 and 5 equals 35.\n"
     ]
    }
   ],
   "source": [
    "print(f'Multiplying {num1} and {num2} equals {num1 * num2}.')"
   ]
  },
  {
   "cell_type": "markdown",
   "id": "67abd11a-a746-4cda-8138-6dc2e700ab8a",
   "metadata": {},
   "source": [
    "##### sentinel value can't be confused with acceptable input value - when asking user for input, show # to end #####"
   ]
  },
  {
   "cell_type": "markdown",
   "id": "7115f5d8-ddde-48f9-9eea-4af05957acfa",
   "metadata": {},
   "source": [
    "### ranges ###"
   ]
  },
  {
   "cell_type": "code",
   "execution_count": 28,
   "id": "8cb65311-22b0-4c17-8f98-d16af1245b1e",
   "metadata": {},
   "outputs": [
    {
     "name": "stdout",
     "output_type": "stream",
     "text": [
      "5 6 7 8 9 "
     ]
    }
   ],
   "source": [
    "for number in range(5, 10):\n",
    "    print(number, end=' ')"
   ]
  },
  {
   "cell_type": "code",
   "execution_count": 29,
   "id": "408c5072-cd28-47e0-946b-ca25fb8bb050",
   "metadata": {},
   "outputs": [
    {
     "name": "stdout",
     "output_type": "stream",
     "text": [
      "0 2 4 6 8 "
     ]
    }
   ],
   "source": [
    "for number in range(0, 10, 2):\n",
    "    print(number, end=' ')"
   ]
  },
  {
   "cell_type": "code",
   "execution_count": 30,
   "id": "86055b35-c5e4-4d50-aaa3-04eac764e8a4",
   "metadata": {},
   "outputs": [
    {
     "name": "stdout",
     "output_type": "stream",
     "text": [
      "10 8 6 4 2 "
     ]
    }
   ],
   "source": [
    "for number in range(10, 0, -2):\n",
    "    print(number, end=' ')"
   ]
  },
  {
   "cell_type": "code",
   "execution_count": 31,
   "id": "048a9af5-4a53-4113-a83f-0996ed939888",
   "metadata": {},
   "outputs": [],
   "source": [
    "# if you write below, nothing will display - isn't a fatal error \n",
    "   # for number in range(10, 0, 2):\n",
    "        # print(number, end=' ')\n",
    "        "
   ]
  },
  {
   "cell_type": "code",
   "execution_count": 32,
   "id": "fdc42587-074b-42ae-8bfd-a5b21c22de09",
   "metadata": {},
   "outputs": [
    {
     "name": "stdout",
     "output_type": "stream",
     "text": [
      "99 88 77 66 55 44 33 22 11 0 "
     ]
    }
   ],
   "source": [
    "for number in range(99, -1, -11):\n",
    "    print(number, end=' ')"
   ]
  },
  {
   "cell_type": "code",
   "execution_count": 33,
   "id": "82980f99-93bf-401e-ae3b-2de0e0af4527",
   "metadata": {},
   "outputs": [],
   "source": [
    "total = 0"
   ]
  },
  {
   "cell_type": "code",
   "execution_count": 34,
   "id": "3c01b363-37bb-49f2-8a8e-7bec6c669e69",
   "metadata": {},
   "outputs": [],
   "source": [
    "for number in range(2, 101, 2):\n",
    "    total += number"
   ]
  },
  {
   "cell_type": "code",
   "execution_count": 35,
   "id": "337f9248-7f8d-4122-983a-6aee54cf31d5",
   "metadata": {},
   "outputs": [
    {
     "data": {
      "text/plain": [
       "2550"
      ]
     },
     "execution_count": 35,
     "metadata": {},
     "output_type": "execute_result"
    }
   ],
   "source": [
    "total"
   ]
  },
  {
   "cell_type": "markdown",
   "id": "b264359b-ca9e-43d6-a041-1df4b9bd1f12",
   "metadata": {},
   "source": [
    "### decimal example ###"
   ]
  },
  {
   "cell_type": "code",
   "execution_count": 36,
   "id": "5bb4b4e6-3552-4c24-b005-3f75d8f9e5ab",
   "metadata": {},
   "outputs": [],
   "source": [
    "import decimal"
   ]
  },
  {
   "cell_type": "code",
   "execution_count": 37,
   "id": "d444a58f-b0f2-42c4-ab19-e74bdc57eb8e",
   "metadata": {},
   "outputs": [],
   "source": [
    "from decimal import Decimal"
   ]
  },
  {
   "cell_type": "code",
   "execution_count": 38,
   "id": "05f60fe5-49a4-4c67-bf27-6de2197c8e99",
   "metadata": {},
   "outputs": [
    {
     "name": "stdout",
     "output_type": "stream",
     "text": [
      "39.79\n"
     ]
    }
   ],
   "source": [
    "print(f\"{Decimal('37.45') * Decimal('1.0625'):.2f}\")"
   ]
  },
  {
   "cell_type": "markdown",
   "id": "6558a18f-fc8d-42b9-a4c5-b9e0c30e6ce0",
   "metadata": {},
   "source": [
    "### break and continue statements ###"
   ]
  },
  {
   "cell_type": "code",
   "execution_count": 39,
   "id": "a1470b9b-4980-4096-9cf9-ee79bd7e2681",
   "metadata": {},
   "outputs": [
    {
     "name": "stdout",
     "output_type": "stream",
     "text": [
      "0 1 2 3 4 5 6 7 8 9 "
     ]
    }
   ],
   "source": [
    "for number in range(100):\n",
    "    if number == 10:\n",
    "        break\n",
    "    print(number, end=' ')"
   ]
  },
  {
   "cell_type": "code",
   "execution_count": 40,
   "id": "f87001ef-504b-4bb3-b9a4-771deb25e9ce",
   "metadata": {},
   "outputs": [
    {
     "name": "stdout",
     "output_type": "stream",
     "text": [
      "0 1 2 3 4 6 7 8 9 "
     ]
    }
   ],
   "source": [
    "for number in range(10):\n",
    "    if number == 5:\n",
    "        continue\n",
    "    print(number, end=' ')"
   ]
  },
  {
   "cell_type": "code",
   "execution_count": 41,
   "id": "a6a759b4-f346-42a3-a62d-a06568552310",
   "metadata": {},
   "outputs": [
    {
     "name": "stdout",
     "output_type": "stream",
     "text": [
      "0 1 2 3 4 5 6 7 8 9 10 11 12 13 14 15 16 17 18 19 20 21 22 23 24 25 26 27 28 29 30 31 32 33 34 35 36 37 38 39 40 41 42 43 44 45 46 47 48 49 50 51 52 53 54 55 56 57 58 59 60 61 62 63 64 65 66 67 68 69 70 71 72 73 74 75 76 77 78 79 80 81 82 83 84 85 86 87 88 89 90 91 92 93 94 95 96 97 98 99 100 101 102 103 104 105 106 107 108 109 110 111 112 113 114 115 116 117 118 119 120 121 122 123 124 125 126 127 128 129 130 131 132 133 134 135 136 137 138 139 140 141 142 143 144 145 146 147 148 149 150 151 152 153 154 155 156 157 158 159 160 161 162 163 164 165 166 167 168 169 170 171 172 173 174 175 176 177 178 179 180 181 182 183 184 185 186 187 188 189 190 191 192 193 194 195 196 197 198 199 200 201 202 203 204 205 206 207 208 209 210 211 212 213 214 215 216 217 218 219 220 221 222 223 224 225 226 227 228 229 230 231 232 233 234 235 236 237 238 239 240 241 242 243 244 245 246 247 248 249 250 251 252 253 254 255 256 257 258 259 260 261 262 263 264 265 266 267 268 269 270 271 272 273 274 275 276 277 278 279 280 281 282 283 284 285 286 287 288 289 290 291 292 293 294 295 296 297 298 299 300 301 302 303 304 305 306 307 308 309 310 311 312 313 314 315 316 317 318 319 320 321 322 323 324 325 326 327 328 329 330 331 332 333 334 335 336 337 338 339 340 341 342 343 344 345 346 347 348 349 350 351 352 353 354 355 356 357 358 359 360 361 362 363 364 365 366 367 368 369 370 371 372 373 374 375 376 377 378 379 380 381 382 383 384 385 386 387 388 389 390 391 392 393 394 395 396 397 398 399 400 401 402 403 404 405 406 407 408 409 410 411 412 413 414 415 416 417 418 419 420 421 422 423 424 425 426 427 428 429 430 431 432 433 434 435 436 437 438 439 440 441 442 443 444 445 446 447 448 449 450 451 452 453 454 455 456 457 458 459 460 461 462 463 464 465 466 467 468 469 470 471 472 473 474 475 476 477 478 479 480 481 482 483 484 485 486 487 488 489 490 491 492 493 494 495 496 497 498 499 500 501 502 503 504 505 506 507 508 509 510 511 512 513 514 515 516 517 518 519 520 521 522 523 524 525 526 527 528 "
     ]
    }
   ],
   "source": [
    "for number in range(1000):\n",
    "    if number == 529:\n",
    "        break\n",
    "    print(number, end=' ')"
   ]
  },
  {
   "cell_type": "code",
   "execution_count": 42,
   "id": "ba280084-491c-42c1-8e32-5b68662befba",
   "metadata": {},
   "outputs": [
    {
     "name": "stdout",
     "output_type": "stream",
     "text": [
      "0 1 2 3 4 5 6 7 8 9 10 11 12 14 15 16 17 18 19 "
     ]
    }
   ],
   "source": [
    "for number in range(20):\n",
    "    if number == 13:\n",
    "        continue\n",
    "    print(number, end=' ')"
   ]
  },
  {
   "cell_type": "markdown",
   "id": "30fd2767-e55b-4fda-8306-d77052e564a8",
   "metadata": {},
   "source": [
    "##### boolean operators -  Python capitalizes True and False #####"
   ]
  },
  {
   "cell_type": "code",
   "execution_count": 43,
   "id": "6abc74dd-ad0b-4bd5-8ec2-186b72efa47f",
   "metadata": {},
   "outputs": [],
   "source": [
    "gender = 'Female'"
   ]
  },
  {
   "cell_type": "code",
   "execution_count": 44,
   "id": "cdb6cb93-e138-413f-8cd1-66cb3aed3ecf",
   "metadata": {},
   "outputs": [],
   "source": [
    "age = 70"
   ]
  },
  {
   "cell_type": "code",
   "execution_count": 45,
   "id": "4c94b76d-902d-4409-a091-40e52f43043d",
   "metadata": {},
   "outputs": [
    {
     "name": "stdout",
     "output_type": "stream",
     "text": [
      "Senior female\n"
     ]
    }
   ],
   "source": [
    "if gender == 'Female' and age >=65:\n",
    "    print('Senior female')"
   ]
  },
  {
   "cell_type": "code",
   "execution_count": 46,
   "id": "4987e5ce-70d4-4ede-9d5c-65a0e4f3380d",
   "metadata": {},
   "outputs": [],
   "source": [
    "semester_average = 83"
   ]
  },
  {
   "cell_type": "code",
   "execution_count": 47,
   "id": "434bf8b0-5a65-4665-9344-a07c33a540e9",
   "metadata": {},
   "outputs": [],
   "source": [
    "final_exam = 95"
   ]
  },
  {
   "cell_type": "code",
   "execution_count": 48,
   "id": "8129c1e1-ff77-4069-9a44-62ce1ad61918",
   "metadata": {},
   "outputs": [
    {
     "name": "stdout",
     "output_type": "stream",
     "text": [
      "Student gets an A\n"
     ]
    }
   ],
   "source": [
    "if semester_average >= 90 or final_exam >= 90:\n",
    "    print('Student gets an A')"
   ]
  },
  {
   "cell_type": "code",
   "execution_count": 49,
   "id": "8fde4c8c-f316-46ee-a9c7-1b118599f606",
   "metadata": {},
   "outputs": [],
   "source": [
    "grade = 87"
   ]
  },
  {
   "cell_type": "code",
   "execution_count": 50,
   "id": "46dacf17-3154-4f27-8851-ff1029b36db7",
   "metadata": {},
   "outputs": [
    {
     "name": "stdout",
     "output_type": "stream",
     "text": [
      "The next grade is 87\n"
     ]
    }
   ],
   "source": [
    "if not grade == -1:\n",
    "    print('The next grade is', grade)"
   ]
  },
  {
   "cell_type": "markdown",
   "id": "bb3ca717-5b0a-440d-9972-c19d0bd74615",
   "metadata": {},
   "source": [
    "### self check 3.16 ###"
   ]
  },
  {
   "cell_type": "code",
   "execution_count": 52,
   "id": "a6bea90b-dbb6-49f6-9db9-53a10286458c",
   "metadata": {},
   "outputs": [],
   "source": [
    "i = 1"
   ]
  },
  {
   "cell_type": "code",
   "execution_count": 53,
   "id": "3a84e560-32d1-4565-b7fb-bc3f22db1558",
   "metadata": {},
   "outputs": [],
   "source": [
    "j = 2"
   ]
  },
  {
   "cell_type": "code",
   "execution_count": 54,
   "id": "4025781a-46e5-43e2-bf33-248b447d06cf",
   "metadata": {},
   "outputs": [],
   "source": [
    "k = 3"
   ]
  },
  {
   "cell_type": "code",
   "execution_count": 55,
   "id": "965640c5-0a2f-4027-844d-68833741c5ed",
   "metadata": {},
   "outputs": [],
   "source": [
    "m = 2"
   ]
  },
  {
   "cell_type": "code",
   "execution_count": 56,
   "id": "88c59d4b-d95a-42d7-a2a8-97d2ad1f6aea",
   "metadata": {},
   "outputs": [
    {
     "data": {
      "text/plain": [
       "True"
      ]
     },
     "execution_count": 56,
     "metadata": {},
     "output_type": "execute_result"
    }
   ],
   "source": [
    "(i >= 1) and (j < 4)"
   ]
  },
  {
   "cell_type": "code",
   "execution_count": 57,
   "id": "5c806ec1-e1aa-4f86-8296-b0c7680a4399",
   "metadata": {},
   "outputs": [
    {
     "data": {
      "text/plain": [
       "False"
      ]
     },
     "execution_count": 57,
     "metadata": {},
     "output_type": "execute_result"
    }
   ],
   "source": [
    "(m <= 99) and (k < m)"
   ]
  },
  {
   "cell_type": "code",
   "execution_count": 58,
   "id": "e56c8869-4e22-4219-8e71-ab03177aab90",
   "metadata": {},
   "outputs": [
    {
     "data": {
      "text/plain": [
       "True"
      ]
     },
     "execution_count": 58,
     "metadata": {},
     "output_type": "execute_result"
    }
   ],
   "source": [
    "(j >= i) or (k == m)"
   ]
  },
  {
   "cell_type": "code",
   "execution_count": 59,
   "id": "ffffe19d-0d11-426a-b3c9-d5274395bcf2",
   "metadata": {},
   "outputs": [
    {
     "data": {
      "text/plain": [
       "False"
      ]
     },
     "execution_count": 59,
     "metadata": {},
     "output_type": "execute_result"
    }
   ],
   "source": [
    "(k + m < j) or (3 - j >= k)"
   ]
  },
  {
   "cell_type": "code",
   "execution_count": 60,
   "id": "394b0538-25df-40ea-8a90-bc0894b59913",
   "metadata": {},
   "outputs": [
    {
     "data": {
      "text/plain": [
       "False"
      ]
     },
     "execution_count": 60,
     "metadata": {},
     "output_type": "execute_result"
    }
   ],
   "source": [
    "not (k > m)"
   ]
  },
  {
   "cell_type": "markdown",
   "id": "8f0f84a2-99f1-4f0b-92eb-8a8667b29d0e",
   "metadata": {},
   "source": [
    "### measures of central tendency ###"
   ]
  },
  {
   "cell_type": "code",
   "execution_count": 61,
   "id": "968455af-ebc6-4506-8a75-124e522f1464",
   "metadata": {},
   "outputs": [],
   "source": [
    "grades = [85, 93, 45, 89, 85]"
   ]
  },
  {
   "cell_type": "code",
   "execution_count": 62,
   "id": "ff5d7596-c0c4-422f-ac31-1ad2c3b5f92f",
   "metadata": {},
   "outputs": [
    {
     "data": {
      "text/plain": [
       "79.4"
      ]
     },
     "execution_count": 62,
     "metadata": {},
     "output_type": "execute_result"
    }
   ],
   "source": [
    "sum(grades) / len(grades)"
   ]
  },
  {
   "cell_type": "markdown",
   "id": "9dbc2c9d-05fb-41f8-9aa6-de879d7ba95e",
   "metadata": {},
   "source": [
    "### statistics module - each function's argument must be an iterable ###"
   ]
  },
  {
   "cell_type": "code",
   "execution_count": 63,
   "id": "a1cb98e8-647c-4068-98fc-646d0a6222ff",
   "metadata": {},
   "outputs": [],
   "source": [
    "import statistics"
   ]
  },
  {
   "cell_type": "code",
   "execution_count": 64,
   "id": "603a6025-55b3-4432-a5da-9c19b41be1f1",
   "metadata": {},
   "outputs": [
    {
     "data": {
      "text/plain": [
       "79.4"
      ]
     },
     "execution_count": 64,
     "metadata": {},
     "output_type": "execute_result"
    }
   ],
   "source": [
    "statistics.mean(grades)"
   ]
  },
  {
   "cell_type": "code",
   "execution_count": 65,
   "id": "0b1a4301-f7f2-4240-8cc9-fd1a0b8d2266",
   "metadata": {},
   "outputs": [
    {
     "data": {
      "text/plain": [
       "85"
      ]
     },
     "execution_count": 65,
     "metadata": {},
     "output_type": "execute_result"
    }
   ],
   "source": [
    "statistics.median(grades)"
   ]
  },
  {
   "cell_type": "code",
   "execution_count": 66,
   "id": "221dde41-8493-45b3-b025-63e04ded873d",
   "metadata": {},
   "outputs": [
    {
     "data": {
      "text/plain": [
       "85"
      ]
     },
     "execution_count": 66,
     "metadata": {},
     "output_type": "execute_result"
    }
   ],
   "source": [
    "statistics.mode(grades)"
   ]
  },
  {
   "cell_type": "code",
   "execution_count": 67,
   "id": "9915e6e0-0914-4bf7-8f86-9425ecdd757e",
   "metadata": {},
   "outputs": [
    {
     "data": {
      "text/plain": [
       "[45, 85, 85, 89, 93]"
      ]
     },
     "execution_count": 67,
     "metadata": {},
     "output_type": "execute_result"
    }
   ],
   "source": [
    "sorted(grades)"
   ]
  },
  {
   "cell_type": "markdown",
   "id": "b1d5ee41-3e59-46a0-913d-735334b29431",
   "metadata": {},
   "source": [
    "##### The mode function causes a StatisticsError for lists where there are two or more \"most frequent\" values (bimodal). #####"
   ]
  },
  {
   "cell_type": "code",
   "execution_count": 68,
   "id": "fae1df87-6f4f-4a6e-bed7-09412a3b080b",
   "metadata": {},
   "outputs": [],
   "source": [
    "import statistics"
   ]
  },
  {
   "cell_type": "code",
   "execution_count": 69,
   "id": "d119588f-0cda-434d-b935-67673aa4cdd9",
   "metadata": {},
   "outputs": [],
   "source": [
    "values = [47, 95, 88, 73, 88, 84]"
   ]
  },
  {
   "cell_type": "code",
   "execution_count": 70,
   "id": "89f5fa2c-b46d-427f-832d-c9cf5325a082",
   "metadata": {},
   "outputs": [
    {
     "data": {
      "text/plain": [
       "79.16666666666667"
      ]
     },
     "execution_count": 70,
     "metadata": {},
     "output_type": "execute_result"
    }
   ],
   "source": [
    "statistics.mean(values)"
   ]
  },
  {
   "cell_type": "code",
   "execution_count": 71,
   "id": "a647c824-45b6-4494-9f31-43e371baf580",
   "metadata": {},
   "outputs": [
    {
     "data": {
      "text/plain": [
       "86.0"
      ]
     },
     "execution_count": 71,
     "metadata": {},
     "output_type": "execute_result"
    }
   ],
   "source": [
    "statistics.median(values)"
   ]
  },
  {
   "cell_type": "code",
   "execution_count": 72,
   "id": "3627da65-6321-4b05-ace7-20a3666aaaad",
   "metadata": {},
   "outputs": [
    {
     "data": {
      "text/plain": [
       "88"
      ]
     },
     "execution_count": 72,
     "metadata": {},
     "output_type": "execute_result"
    }
   ],
   "source": [
    "statistics.mode(values)"
   ]
  },
  {
   "cell_type": "markdown",
   "id": "2307c2fc-ad57-4b5d-95c7-d9564eda5731",
   "metadata": {},
   "source": [
    "### 6 Calculate Measures of Central Tendency - Native Python ###"
   ]
  },
  {
   "cell_type": "code",
   "execution_count": 73,
   "id": "71ca2cf1-6383-4b1f-a2e9-8f7bfeeb3d44",
   "metadata": {},
   "outputs": [],
   "source": [
    "values = [85, 93, 45, 89, 85]"
   ]
  },
  {
   "cell_type": "code",
   "execution_count": 74,
   "id": "9c69092a-9804-4fa1-85f0-8400b7948df8",
   "metadata": {},
   "outputs": [
    {
     "data": {
      "text/plain": [
       "5"
      ]
     },
     "execution_count": 74,
     "metadata": {},
     "output_type": "execute_result"
    }
   ],
   "source": [
    "len(values)"
   ]
  },
  {
   "cell_type": "code",
   "execution_count": 75,
   "id": "0e2dfe5a-71e1-4bcd-81d8-a2eb91074a29",
   "metadata": {},
   "outputs": [
    {
     "data": {
      "text/plain": [
       "397"
      ]
     },
     "execution_count": 75,
     "metadata": {},
     "output_type": "execute_result"
    }
   ],
   "source": [
    "sum(values)"
   ]
  },
  {
   "cell_type": "code",
   "execution_count": 76,
   "id": "ef33738e-7336-4015-b733-726d5658afba",
   "metadata": {},
   "outputs": [
    {
     "data": {
      "text/plain": [
       "79.4"
      ]
     },
     "execution_count": 76,
     "metadata": {},
     "output_type": "execute_result"
    }
   ],
   "source": [
    "sum(values) / len(values)"
   ]
  },
  {
   "cell_type": "markdown",
   "id": "ad8f9b68-533b-4973-a4db-d5fafa506f92",
   "metadata": {},
   "source": [
    "### 7 Measures of Central Tendency - with Statistics Module ###"
   ]
  },
  {
   "cell_type": "code",
   "execution_count": 77,
   "id": "f7a91396-b185-4f56-b495-e041f0f2cc2b",
   "metadata": {},
   "outputs": [],
   "source": [
    "import statistics"
   ]
  },
  {
   "cell_type": "code",
   "execution_count": 78,
   "id": "05fa4b70-9429-486b-ad72-61f34153f533",
   "metadata": {},
   "outputs": [
    {
     "data": {
      "text/plain": [
       "79.4"
      ]
     },
     "execution_count": 78,
     "metadata": {},
     "output_type": "execute_result"
    }
   ],
   "source": [
    "statistics.mean(grades)"
   ]
  },
  {
   "cell_type": "code",
   "execution_count": 79,
   "id": "cc29c72d-63df-4880-b80c-85acfea5185f",
   "metadata": {},
   "outputs": [
    {
     "data": {
      "text/plain": [
       "85"
      ]
     },
     "execution_count": 79,
     "metadata": {},
     "output_type": "execute_result"
    }
   ],
   "source": [
    "statistics.median(grades)"
   ]
  },
  {
   "cell_type": "code",
   "execution_count": 80,
   "id": "c750c168-9709-4875-9ab3-9acad657a07a",
   "metadata": {},
   "outputs": [
    {
     "data": {
      "text/plain": [
       "85"
      ]
     },
     "execution_count": 80,
     "metadata": {},
     "output_type": "execute_result"
    }
   ],
   "source": [
    "statistics.mode(grades)"
   ]
  },
  {
   "cell_type": "markdown",
   "id": "608caa5f-5d3b-4adf-ac85-9ffb6b564aa9",
   "metadata": {},
   "source": [
    "### 8 Custom Central Tendency ###"
   ]
  },
  {
   "cell_type": "code",
   "execution_count": 81,
   "id": "c694eb93-3a0f-4c7f-ae8f-c9b932f49ecf",
   "metadata": {},
   "outputs": [],
   "source": [
    "import statistics"
   ]
  },
  {
   "cell_type": "code",
   "execution_count": 82,
   "id": "7717f7fa-ac3f-45b3-b8c8-c34eda1addac",
   "metadata": {},
   "outputs": [],
   "source": [
    "values = [1, 2, 3, 4, 5, 6, 20, 25, 48, 62]"
   ]
  },
  {
   "cell_type": "code",
   "execution_count": 83,
   "id": "1d02f21f-e427-47e9-b0c9-17a30287ce16",
   "metadata": {},
   "outputs": [
    {
     "data": {
      "text/plain": [
       "10"
      ]
     },
     "execution_count": 83,
     "metadata": {},
     "output_type": "execute_result"
    }
   ],
   "source": [
    "len(values)"
   ]
  },
  {
   "cell_type": "code",
   "execution_count": 84,
   "id": "e9458607-59a4-452a-80d8-8d5175fcfb90",
   "metadata": {},
   "outputs": [
    {
     "data": {
      "text/plain": [
       "176"
      ]
     },
     "execution_count": 84,
     "metadata": {},
     "output_type": "execute_result"
    }
   ],
   "source": [
    "sum(values)"
   ]
  },
  {
   "cell_type": "code",
   "execution_count": 85,
   "id": "3cb9cf24-9e5f-4330-adfb-623a67868be5",
   "metadata": {},
   "outputs": [
    {
     "data": {
      "text/plain": [
       "17.6"
      ]
     },
     "execution_count": 85,
     "metadata": {},
     "output_type": "execute_result"
    }
   ],
   "source": [
    "statistics.mean(values)"
   ]
  },
  {
   "cell_type": "code",
   "execution_count": 86,
   "id": "ed025a28-e68d-467a-9a57-c144d9f81ea3",
   "metadata": {},
   "outputs": [
    {
     "data": {
      "text/plain": [
       "5.5"
      ]
     },
     "execution_count": 86,
     "metadata": {},
     "output_type": "execute_result"
    }
   ],
   "source": [
    "statistics.median(values)"
   ]
  },
  {
   "cell_type": "code",
   "execution_count": 87,
   "id": "bffd870d-d4eb-4a91-af80-2aca155835ab",
   "metadata": {},
   "outputs": [
    {
     "data": {
      "text/plain": [
       "1"
      ]
     },
     "execution_count": 87,
     "metadata": {},
     "output_type": "execute_result"
    }
   ],
   "source": [
    "statistics.mode(values)"
   ]
  },
  {
   "cell_type": "markdown",
   "id": "98eceec4-075d-4a6e-b1f2-69c0c61724ee",
   "metadata": {},
   "source": [
    "##### Emily Granatino #####"
   ]
  }
 ],
 "metadata": {
  "kernelspec": {
   "display_name": "Python 3 (ipykernel)",
   "language": "python",
   "name": "python3"
  },
  "language_info": {
   "codemirror_mode": {
    "name": "ipython",
    "version": 3
   },
   "file_extension": ".py",
   "mimetype": "text/x-python",
   "name": "python",
   "nbconvert_exporter": "python",
   "pygments_lexer": "ipython3",
   "version": "3.9.7"
  }
 },
 "nbformat": 4,
 "nbformat_minor": 5
}
